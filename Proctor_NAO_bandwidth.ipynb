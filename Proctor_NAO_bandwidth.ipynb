{
 "cells": [
  {
   "cell_type": "markdown",
   "metadata": {},
   "source": [
    "Load necessary packages"
   ]
  },
  {
   "cell_type": "code",
   "execution_count": 1,
   "metadata": {
    "collapsed": true
   },
   "outputs": [],
   "source": [
    "%matplotlib inline\n",
    "from scipy import interpolate\n",
    "from scipy import special\n",
    "from scipy.signal import butter, lfilter, filtfilt\n",
    "import matplotlib.pyplot as plt\n",
    "import numpy as np\n",
    "from numpy import genfromtxt\n",
    "from nitime import algorithms as alg\n",
    "from nitime import utils\n",
    "from scipy.stats import t\n",
    "import xray\n",
    "import pandas as pd\n",
    "from rpy2.robjects import FloatVector\n",
    "from rpy2.robjects.vectors import StrVector\n",
    "import rpy2.robjects as robjects    \n",
    "from rpy2.robjects.packages import importr\n",
    "r = robjects.r"
   ]
  },
  {
   "cell_type": "markdown",
   "metadata": {},
   "source": [
    "Define functions for filtering, moving averages, and normalizing data"
   ]
  },
  {
   "cell_type": "code",
   "execution_count": 2,
   "metadata": {
    "collapsed": true
   },
   "outputs": [],
   "source": [
    "def butter_lowpass(cutoff, fs, order=3):\n",
    "    nyq = 0.5 * fs\n",
    "    normal_cutoff = cutoff / nyq \n",
    "    b, a = butter(order, normal_cutoff, btype='low', analog=False)\n",
    "    return b, a\n",
    "\n",
    "def filter(x, cutoff, axis, fs=1.0, order=3):\n",
    "    b, a = butter_lowpass(cutoff, fs, order=order)\n",
    "    y = filtfilt(b, a, x, axis=axis)\n",
    "    return y\n",
    "\n",
    "def movingaverage(interval, window_size):\n",
    "    window = np.ones(int(window_size))/float(window_size)\n",
    "    return np.convolve(interval, window, 'valid')\n",
    "\n",
    "def owncorr(x,y,n):\n",
    "    x_ano=np.ma.anomalies(x)\n",
    "    x_sd=np.sum(x_ano**2,axis=0)\n",
    "    y_ano=np.ma.anomalies(y)\n",
    "    y_sd=np.sum(y_ano**2,axis=0)\n",
    "    nomi = np.dot(x_ano,y_ano)\n",
    "    corr = nomi/np.sqrt(np.dot(x_sd[None],y_sd[None]))\n",
    "\n",
    "    x_coef, x_sigma = alg.AR_est_YW (x, 1)\n",
    "    y_coef, y_sigma = alg.AR_est_YW (y, 1)\n",
    "    neff = n*(1-x_coef*y_coef)/(1+x_coef*y_coef)\n",
    "\n",
    "    if neff <3:\n",
    "        neff = 3\n",
    "    \n",
    "    coef = []\n",
    "    coef.append(x_coef)\n",
    "    coef.append(y_coef)\n",
    "    tval = corr/np.sqrt(1-corr**2)*np.sqrt(neff-2)\n",
    "    pval = t.sf(abs(tval),neff-2)*2\n",
    "    \n",
    "    return corr,pval,coef\n",
    "\n",
    "def gaussianize(X):\n",
    "    n = X.shape[0]\n",
    "    #p = X.shape[1]\n",
    "\n",
    "    Xn = np.empty((n,))\n",
    "    Xn[:] = np.NAN\n",
    "    nz = np.logical_not(np.isnan(X))\n",
    "\n",
    "    index = np.argsort(X[nz])\n",
    "    rank = np.argsort(index)\n",
    "\n",
    "    CDF = 1.*(rank+1)/(1.*n) -1./(2*n)\n",
    "    Xn[nz] = np.sqrt(2)*special.erfinv(2*CDF -1)\n",
    "    return Xn"
   ]
  },
  {
   "cell_type": "markdown",
   "metadata": {},
   "source": [
    "Read bandwidth and rain/temperature data and normalize them"
   ]
  },
  {
   "cell_type": "code",
   "execution_count": 4,
   "metadata": {
    "collapsed": false
   },
   "outputs": [],
   "source": [
    "data = genfromtxt('scotland.csv', delimiter=',')\n",
    "bandw = data[0:115,4] # band width (1879-1993), will be correlated with T/P\n",
    "bandwl = data[3:129,4] # band width (1865-1990), will be correlation with winter NAO\n",
    "bandwn = gaussianize(bandw) #normalized band width\n",
    "bandwln = gaussianize(bandwl) #normalized band width\n",
    "\n",
    "rain = genfromtxt('Assynt_P.txt') #precipitaiton\n",
    "temp = genfromtxt('Assynt_T.txt') #temperature\n",
    "wnao = genfromtxt('wnao.txt') #winter NAO\n",
    "wnao = wnao[::-1]\n",
    "\n",
    "rainn = gaussianize(rain)\n",
    "tempn = gaussianize(temp)\n",
    "\n",
    "#calculate the ratio of temperature over precipitation\n",
    "ratio = temp/rain\n",
    "ration = gaussianize(ratio)"
   ]
  },
  {
   "cell_type": "markdown",
   "metadata": {},
   "source": [
    "Smoothing data (11-year running average)"
   ]
  },
  {
   "cell_type": "code",
   "execution_count": 5,
   "metadata": {
    "collapsed": true
   },
   "outputs": [],
   "source": [
    "bandw_fil = movingaverage(bandw, 11)\n",
    "bandwn_fil = movingaverage(bandwn, 11)\n",
    "bandwl_fil = movingaverage(bandwl, 11)\n",
    "rain_fil = movingaverage(rain, 11)\n",
    "rainn_fil = movingaverage(rainn, 11)\n",
    "ratio_fil = movingaverage(ratio, 11)\n",
    "wnao_fil = movingaverage(wnao, 11)"
   ]
  },
  {
   "cell_type": "markdown",
   "metadata": {},
   "source": [
    "Calculate correlation and p-values with considering autocorrelation, and the autocorrelations (coef)"
   ]
  },
  {
   "cell_type": "code",
   "execution_count": 6,
   "metadata": {
    "collapsed": true
   },
   "outputs": [],
   "source": [
    "corr_ratio,pval_ratio,coef = owncorr(bandw_fil,ratio_fil,115)\n",
    "corr_nao,pval_nao,coef_nao = owncorr(bandwl_fil,wnao_fil,126)\n",
    "corr_n,pval_n,coef_n = owncorr(bandwn,ration,115)\n",
    "corr_naon,pval_naon,coef_naon = owncorr(bandwln,wnao,126)"
   ]
  },
  {
   "cell_type": "markdown",
   "metadata": {},
   "source": [
    "Check the correlation results"
   ]
  },
  {
   "cell_type": "code",
   "execution_count": 7,
   "metadata": {
    "collapsed": false
   },
   "outputs": [
    {
     "name": "stdout",
     "output_type": "stream",
     "text": [
      "0.769730956482\n",
      "0.440780720831\n",
      "[array([ 0.99411616]), array([ 0.99106323])]\n",
      "-0.794624754752\n",
      "[ 0.37152434]\n",
      "[array([ 0.99594871]), array([ 0.95510202])]\n",
      "0.306696255799\n",
      "[ 0.00285928]\n",
      "[array([ 0.77346338]), array([ 0.13991603])]\n",
      "-0.208749844418\n",
      "[ 0.0420236]\n",
      "[array([ 0.77795155]), array([ 0.17840258])]\n"
     ]
    }
   ],
   "source": [
    "print(corr_ratio)\n",
    "print(pval_ratio)\n",
    "print(coef)\n",
    "print(corr_nao)\n",
    "print(pval_nao)\n",
    "print(coef_nao)\n",
    "\n",
    "print(corr_n)\n",
    "print(pval_n)\n",
    "print(coef_n)\n",
    "print(corr_naon)\n",
    "print(pval_naon)\n",
    "print(coef_naon)"
   ]
  },
  {
   "cell_type": "code",
   "execution_count": null,
   "metadata": {
    "collapsed": true
   },
   "outputs": [],
   "source": []
  }
 ],
 "metadata": {
  "kernelspec": {
   "display_name": "Python 3",
   "language": "python",
   "name": "python3"
  },
  "language_info": {
   "codemirror_mode": {
    "name": "ipython",
    "version": 3
   },
   "file_extension": ".py",
   "mimetype": "text/x-python",
   "name": "python",
   "nbconvert_exporter": "python",
   "pygments_lexer": "ipython3",
   "version": "3.5.2"
  }
 },
 "nbformat": 4,
 "nbformat_minor": 1
}
